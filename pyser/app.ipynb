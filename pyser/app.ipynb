{
 "cells": [
  {
   "cell_type": "code",
   "execution_count": 3,
   "metadata": {},
   "outputs": [],
   "source": [
    "from fastapi import FastAPI, HTTPException\n",
    "import requests\n",
    "from bs4 import BeautifulSoup\n",
    "from typing import List\n",
    "\n",
    "app = FastAPI()\n",
    "\n",
    "VERGE_TECH_URL = \"https://www.theverge.com/tech\""
   ]
  },
  {
   "cell_type": "code",
   "execution_count": 4,
   "metadata": {},
   "outputs": [],
   "source": [
    "class Article:\n",
    "    def __init__(self, title: str, link: str, author: str, date: str, category: str):\n",
    "        self.title = title\n",
    "        self.link = link\n",
    "        self.author = author\n",
    "        self.date = date\n",
    "        self.category = category\n",
    "\n"
   ]
  },
  {
   "cell_type": "code",
   "execution_count": 5,
   "metadata": {},
   "outputs": [],
   "source": [
    "response = requests.get(VERGE_TECH_URL)\n",
    "soup = BeautifulSoup(response.content, \"html.parser\")\n",
    "articles = []"
   ]
  },
  {
   "cell_type": "code",
   "execution_count": null,
   "metadata": {},
   "outputs": [],
   "source": [
    "for element in soup.select(\".duet--content-cards--content-card\"):\n",
    "    title = (\n",
    "        element.select_one(\"h2 a\").get_text(strip=True)\n",
    "        if element.select_one(\"h2 a\")\n",
    "        else None\n",
    "    )\n",
    "    link = element.select_one(\"h2 a\")[\"href\"] if element.select_one(\"h2 a\") else None\n",
    "    author = (\n",
    "        element.find_all(\"a\", class_=\"text-gray-31 hover:shadow-underline-inherit dark:text-franklin mr-8\")\n",
    "            )\n",
    "    # print(author)\n",
    "    date = (\n",
    "        element.select_one(\"time\")[\"datetime\"] if element.select_one(\"time\") else None\n",
    "    )\n",
    "    category = (\n",
    "        element.select_one(\".duet--content-cards--content-card-group a\").get_text(\n",
    "            strip=True\n",
    "        )\n",
    "        if element.select_one(\".duet--content-cards--content-card-group a\")\n",
    "        else None\n",
    "    )"
   ]
  },
  {
   "cell_type": "code",
   "execution_count": 27,
   "metadata": {},
   "outputs": [
    {
     "name": "stdout",
     "output_type": "stream",
     "text": [
      "[<a class=\"text-gray-31 hover:shadow-underline-inherit dark:text-franklin mr-8\" href=\"/authors/emma-roth\">Emma Roth</a>]\n"
     ]
    }
   ],
   "source": [
    "print(author)\n"
   ]
  },
  {
   "cell_type": "code",
   "execution_count": null,
   "metadata": {},
   "outputs": [],
   "source": []
  },
  {
   "cell_type": "code",
   "execution_count": null,
   "metadata": {},
   "outputs": [],
   "source": []
  }
 ],
 "metadata": {
  "kernelspec": {
   "display_name": "Python 3",
   "language": "python",
   "name": "python3"
  },
  "language_info": {
   "codemirror_mode": {
    "name": "ipython",
    "version": 3
   },
   "file_extension": ".py",
   "mimetype": "text/x-python",
   "name": "python",
   "nbconvert_exporter": "python",
   "pygments_lexer": "ipython3",
   "version": "3.11.3"
  }
 },
 "nbformat": 4,
 "nbformat_minor": 2
}
